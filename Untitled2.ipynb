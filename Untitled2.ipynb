{
 "cells": [
  {
   "cell_type": "code",
   "execution_count": 5,
   "metadata": {},
   "outputs": [],
   "source": [
    "from spt3g import core, dfmux, gcp\n",
    "import numpy as np\n",
    "from glob import glob"
   ]
  },
  {
   "cell_type": "code",
   "execution_count": 6,
   "metadata": {},
   "outputs": [],
   "source": [
    "datafolder = '/global/cscratch1/sd/yzh/data/ChileData/Run20000065/'\n",
    "datafiles = sorted(glob(datafolder+'*.g3'))"
   ]
  },
  {
   "cell_type": "code",
   "execution_count": 26,
   "metadata": {},
   "outputs": [],
   "source": [
    "ch = 'PB20.13.10_Comb30Ch28'\n",
    "\n",
    "tod_buff = []\n",
    "az_buff = []\n",
    "el_buff = []\n",
    "bolotime_buff = []\n",
    "antennatime_buff = []\n",
    "\n",
    "def get_azel(frame):\n",
    "    if frame.type == core.G3FrameType.Scan:\n",
    "        az_buff.append(frame['TrackerStatus'].az_pos)\n",
    "        el_buff.append(frame['TrackerStatus'].el_pos)\n",
    "\n",
    "def get_bolotime(frame):\n",
    "    if frame.type == core.G3FrameType.Scan:\n",
    "        bolotime_buff.append(np.array([t.time*1e-8 for t in frame['DetectorSampleTimes']]))\n",
    "\n",
    "def get_antennatime(frame):\n",
    "    if frame.type == core.G3FrameType.Scan:\n",
    "        antennatime_buff.append([frame['TrackerStatus'].time[k].time * 1e-8 for k in range(len(frame['TrackerStatus'].time\n",
    "        ))])"
   ]
  },
  {
   "cell_type": "code",
   "execution_count": 27,
   "metadata": {},
   "outputs": [],
   "source": [
    "pipe = core.G3Pipeline()\n",
    "pipe.Add(core.G3Reader, filename=datafiles)\n",
    "pipe.Add(get_azel)\n",
    "pipe.Add(get_bolotime)\n",
    "pipe.Add(get_antennatime)\n",
    "pipe.Run()"
   ]
  },
  {
   "cell_type": "code",
   "execution_count": 33,
   "metadata": {},
   "outputs": [],
   "source": [
    "az = np.concatenate(az_buff) #* 180/np.pi\n",
    "el = np.concatenate(el_buff) #* 180/np.pi\n",
    "bolotime = np.concatenate(bolotime_buff)\n",
    "antennatime = np.concatenate(antennatime_buff)\n"
   ]
  },
  {
   "cell_type": "code",
   "execution_count": 34,
   "metadata": {},
   "outputs": [
    {
     "data": {
      "text/plain": [
       "False"
      ]
     },
     "execution_count": 34,
     "metadata": {},
     "output_type": "execute_result"
    }
   ],
   "source": [
    "bolotime[0] == antennatime[0]"
   ]
  },
  {
   "cell_type": "code",
   "execution_count": 37,
   "metadata": {},
   "outputs": [
    {
     "data": {
      "text/plain": [
       "483398"
      ]
     },
     "execution_count": 37,
     "metadata": {},
     "output_type": "execute_result"
    }
   ],
   "source": [
    "len(bolotime)"
   ]
  },
  {
   "cell_type": "code",
   "execution_count": 38,
   "metadata": {},
   "outputs": [
    {
     "data": {
      "text/plain": [
       "438700"
      ]
     },
     "execution_count": 38,
     "metadata": {},
     "output_type": "execute_result"
    }
   ],
   "source": [
    "len(antennatime)"
   ]
  },
  {
   "cell_type": "code",
   "execution_count": null,
   "metadata": {},
   "outputs": [],
   "source": []
  }
 ],
 "metadata": {
  "kernelspec": {
   "display_name": "CMB 20200408",
   "language": "python",
   "name": "cmbenv-20200408"
  },
  "language_info": {
   "codemirror_mode": {
    "name": "ipython",
    "version": 3
   },
   "file_extension": ".py",
   "mimetype": "text/x-python",
   "name": "python",
   "nbconvert_exporter": "python",
   "pygments_lexer": "ipython3",
   "version": "3.6.10"
  }
 },
 "nbformat": 4,
 "nbformat_minor": 4
}
