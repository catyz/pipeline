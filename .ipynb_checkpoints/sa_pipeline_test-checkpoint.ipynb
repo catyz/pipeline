{
 "cells": [
  {
   "cell_type": "code",
   "execution_count": 1,
   "metadata": {},
   "outputs": [],
   "source": [
    "import sys\n",
    "sys.path.insert(0,'../simons_array_offline_software')\n",
    "sys.path.insert(0,'../spt3g_software_sa/build')\n",
    "sys.path.insert(0,'../software/toast/lib/python3.7/site-packages')\n",
    "#!export PYTHONPATH=/global/cscratch1/sd/yzh/spt3g_software_sa/build:$PYTHONPATH\n",
    "import numpy as np\n",
    "import matplotlib.pyplot as plt\n",
    "import toast.qarray as qa\n"
   ]
  },
  {
   "cell_type": "code",
   "execution_count": 2,
   "metadata": {},
   "outputs": [
    {
     "name": "stdout",
     "output_type": "stream",
     "text": [
      "Failed to import slowdaq dependencies! Not crashing now in case those are not needed, but will crash if the slow data sources are attempted to be loaded.\n"
     ]
    },
    {
     "name": "stderr",
     "output_type": "stream",
     "text": [
      "INFO: pyfftw found and activated.\n",
      "INFO: sqlite database /global/cscratch1/sd/yzh/data/ChileData/databases/pb2a-20200301/pb2a_boloid.db attached.\n",
      "INFO: sqlite database /global/cscratch1/sd/yzh/data/ChileData/databases/pb2a-20200301/pb2a_runid.db attached.\n",
      "INFO: sqlite database /global/cscratch1/sd/yzh/data/ChileData/databases/pb2a-20200301/pb2a_runid_g3.db attached.\n",
      "INFO: sqlite database /global/cscratch1/sd/yzh/data/ChileData/databases/pb2a-20200301/pb2a_focalplane.db attached.\n",
      "INFO: sqlite database /global/cscratch1/sd/yzh/data/ChileData/databases/pb2a-20200301/pb2a_scan_stat.db attached.\n",
      "INFO: sqlite database /global/cscratch1/sd/yzh/data/ChileData/databases/pb2a-20200301/pb2a_tuning.db attached.\n",
      "INFO: sqlite database /global/cscratch1/sd/yzh/data/ChileData/databases/pb2a-20200301/pb2a_slowdaq.db attached.\n"
     ]
    }
   ],
   "source": [
    "from simons_array_python import sa_pipeline_filters as sa_pf\n",
    "from simons_array_python import sa_pipeline_inputs as sa_pi\n",
    "from simons_array_python import sa_tod as sa_tod\n",
    "from simons_array_python import sa_observation as sa_ob\n",
    "from simons_array_python import sa_config\n",
    "from simons_array_python import sa_sql\n",
    "from simons_array_python import sa_pointing as sa_p"
   ]
  },
  {
   "cell_type": "code",
   "execution_count": 3,
   "metadata": {},
   "outputs": [],
   "source": [
    "all_detectors = ['13.10_112.90B']"
   ]
  },
  {
   "cell_type": "code",
   "execution_count": 4,
   "metadata": {},
   "outputs": [],
   "source": [
    "pi = sa_pi.InputLevel0CachedByObsID(\n",
    "    all_detectors = all_detectors,\n",
    "    n_per_cache = 1,\n",
    "    load_slowdaq = False,\n",
    "    load_hwp = False,\n",
    "    load_dets = True, \n",
    "    load_g3 = True,\n",
    "    ignore_faulty_frame = True,\n",
    "    record_frame_time = True,\n",
    "    input_name = 'data'\n",
    ")\n",
    "\n"
   ]
  },
  {
   "cell_type": "code",
   "execution_count": 5,
   "metadata": {},
   "outputs": [
    {
     "name": "stderr",
     "output_type": "stream",
     "text": [
      "Reading SQL table pb2a_runid...done.\n"
     ]
    }
   ],
   "source": [
    "runid = \"20100665.5\"\n",
    "\n",
    "obs = sa_ob.Observation(tuple(map(int, runid.split('.'))))\n",
    "obs.detectors = ['13.10_112.90B']\n",
    "obs._load_metadata()"
   ]
  },
  {
   "cell_type": "code",
   "execution_count": 8,
   "metadata": {},
   "outputs": [],
   "source": [
    "sa_operator = sa_pf.OperatorDataInitializer(pi)\n",
    "sa_operator.filter_obs(obs)\n"
   ]
  },
  {
   "cell_type": "code",
   "execution_count": null,
   "metadata": {},
   "outputs": [],
   "source": []
  },
  {
   "cell_type": "code",
   "execution_count": null,
   "metadata": {},
   "outputs": [],
   "source": []
  },
  {
   "cell_type": "code",
   "execution_count": 7,
   "metadata": {},
   "outputs": [
    {
     "name": "stderr",
     "output_type": "stream",
     "text": [
      "INFO: Applying pipeline filter: <class 'simons_array_python.sa_pipeline_filters.OperatorDataInitializer'>\n",
      "Loading data from g3 files for run_id=20100665, run_subid=5 . . . \n",
      "Reading SQL table pb2a_runid_g3file...done.\n",
      "Reading SQL table pb2a_g3file...done.\n",
      "Reading SQL table pb2a_boloid...done.\n"
     ]
    },
    {
     "name": "stdout",
     "output_type": "stream",
     "text": [
      "INFO: Run20100665.5: reading following files: Run20100665_002.g3.\n",
      "INFO: Run20100665.5: frame (total, first, last)=(154, 10, 11).\n",
      "WARNING: 14/5480 detector name(s) are passed to bolo_name_from_name function, but not existent in the database: PB20.13.11_Comb29Ch07,PB20.13.13_Comb02Ch35,PB20.13.13_Comb02Ch36,PB20.13.13_Comb02Ch37,PB20.13.13_Comb02Ch38,PB20.13.13_Comb21Ch35,PB20.13.13_Comb21Ch36,PB20.13.13_Comb23Ch38,PB20.13.15_Comb16Ch37,PB20.13.15_Comb16Ch38,PB20.13.15_Comb21Ch39,PB20.13.28_Comb10Ch36,PB20.13.28_Comb18Ch39,PB20.13.31_Comb22Ch36.\n",
      "Setting input name to data\n",
      "NEW VECTOR LENGTHS! 300 300\n",
      "NEW VECTOR LENGTHS! 300 300\n"
     ]
    },
    {
     "name": "stderr",
     "output_type": "stream",
     "text": [
      "INFO: Applying pipeline filter: <class 'simons_array_python.sa_pipeline_filters.OperatorScanCorrector'>\n",
      "INFO: Applying pipeline filter: <class 'simons_array_python.sa_pipeline_filters.OperatorScanCorrector'>\n",
      "INFO: Applying pipeline filter: <class 'simons_array_python.sa_pipeline_filters.OperatorTelescopeDataInterpolator'>\n",
      "INFO: Applying pipeline filter: <class 'simons_array_python.sa_pointing.ComputeBoresightQuaternions'>\n"
     ]
    }
   ],
   "source": [
    "sa_operator_stack = sa_pf.OperatorComposite(\n",
    "    sa_pf.OperatorScanCorrector('raw_scan_flag', 'raw_el_pos', 'raw_antenna_time_mjd'),\n",
    "    sa_pf.OperatorScanCorrector('raw_scan_flag', 'raw_az_pos', 'raw_antenna_time_mjd'),\n",
    ")\n",
    "sa_operator_stack.filter_obs(obs) "
   ]
  },
  {
   "cell_type": "code",
   "execution_count": null,
   "metadata": {},
   "outputs": [],
   "source": [
    "interp = sa_pf.OperatorTelescopeDataInterpolator(prefix='corrected_')\n",
    "interp.filter_obs(obs)"
   ]
  },
  {
   "cell_type": "code",
   "execution_count": null,
   "metadata": {},
   "outputs": [],
   "source": [
    "quat = sa_p.ComputeBoresightQuaternions()\n",
    "quat.filter_obs(obs)\n"
   ]
  },
  {
   "cell_type": "code",
   "execution_count": 8,
   "metadata": {},
   "outputs": [],
   "source": [
    "tod = obs.tod_list[0]\n",
    "detectors = ['13.10_112.90B']\n",
    "nsamp = len(tod.read('13.10_112.90B-I'))"
   ]
  },
  {
   "cell_type": "code",
   "execution_count": 10,
   "metadata": {},
   "outputs": [
    {
     "name": "stdout",
     "output_type": "stream",
     "text": [
      "frame_faulty <class 'list'>\n",
      "frame_total <class 'int'>\n",
      "input_name <class 'str'>\n",
      "raw_acu_seq <class 'numpy.ndarray'>\n",
      "raw_az_pos <class 'numpy.ndarray'>\n",
      "raw_az_command <class 'numpy.ndarray'>\n",
      "raw_az_rate <class 'numpy.ndarray'>\n",
      "raw_az_rate_command <class 'numpy.ndarray'>\n",
      "raw_el_pos <class 'numpy.ndarray'>\n",
      "raw_el_command <class 'numpy.ndarray'>\n",
      "raw_el_rate <class 'numpy.ndarray'>\n",
      "raw_el_rate_command <class 'numpy.ndarray'>\n",
      "raw_in_control <class 'numpy.ndarray'>\n",
      "raw_scan_flag <class 'numpy.ndarray'>\n",
      "raw_state <class 'numpy.ndarray'>\n",
      "raw_antenna_time_mjd <class 'numpy.ndarray'>\n",
      "frame_antenna_time_mjd <class 'list'>\n",
      "13.10_112.90B-I <class 'numpy.ndarray'>\n",
      "13.10_112.90B-Q <class 'numpy.ndarray'>\n",
      "bolo_time <class 'numpy.ndarray'>\n",
      "reverse_time_indices <class 'numpy.ndarray'>\n",
      "corrected_antenna_time_mjd <class 'numpy.ndarray'>\n",
      "gcp_gaps_time <class 'numpy.ndarray'>\n",
      "gcp_gaps <class 'numpy.ndarray'>\n",
      "corrected_az_pos <class 'numpy.ndarray'>\n",
      "corrected_el_pos <class 'numpy.ndarray'>\n",
      "acu_seq <class 'numpy.ndarray'>\n",
      "az_pos <class 'numpy.ndarray'>\n",
      "az_command <class 'numpy.ndarray'>\n",
      "az_rate <class 'numpy.ndarray'>\n",
      "az_rate_command <class 'numpy.ndarray'>\n",
      "el_pos <class 'numpy.ndarray'>\n",
      "el_command <class 'numpy.ndarray'>\n",
      "el_rate <class 'numpy.ndarray'>\n",
      "el_rate_command <class 'numpy.ndarray'>\n",
      "in_control <class 'numpy.ndarray'>\n",
      "scan_flag <class 'numpy.ndarray'>\n",
      "state <class 'numpy.ndarray'>\n",
      "boresight_azel <class 'numpy.ndarray'>\n",
      "boresight <class 'numpy.ndarray'>\n"
     ]
    }
   ],
   "source": [
    "for key, value in tod.cache.items():\n",
    "    print(key, type(value))"
   ]
  },
  {
   "cell_type": "code",
   "execution_count": 9,
   "metadata": {},
   "outputs": [],
   "source": [
    "# value = tod.cache['frame_antenna_time_mjd']\n",
    "# print(value)\n",
    "#"
   ]
  },
  {
   "cell_type": "code",
   "execution_count": 10,
   "metadata": {},
   "outputs": [],
   "source": [
    "from simons_array_python import sa_toast_tod\n",
    "tod_list1 = sa_toast_tod.TodToastWrapper(\n",
    "    tod_list = [tod],\n",
    "    mpicomm = None,\n",
    "    detectors = detectors,\n",
    "    samples = nsamp,\n",
    "    detindx = {x[0]:x[1] for x in zip(detectors, range(len(detectors)))},\n",
    "    detranks = 1\n",
    ")"
   ]
  },
  {
   "cell_type": "code",
   "execution_count": 11,
   "metadata": {},
   "outputs": [],
   "source": [
    "# tod_list2 = sa_toast_tod.TodToastWrapper(\n",
    "#     tod_list = [dummytod2, dummytod3],\n",
    "#     mpicomm = None,\n",
    "#     detectors = detectors,\n",
    "#     samples = nsamp,\n",
    "#     detindx = {x[0]:x[1] for x in zip(detectors, range(len(detectors)))},\n",
    "#     detranks = 1\n",
    "# )\n"
   ]
  },
  {
   "cell_type": "code",
   "execution_count": 12,
   "metadata": {},
   "outputs": [],
   "source": [
    "# tod_list3 = tod_list1 + tod_list2"
   ]
  },
  {
   "cell_type": "code",
   "execution_count": 13,
   "metadata": {},
   "outputs": [],
   "source": [
    "tod_list1.set_toast_prefix('data')\n"
   ]
  },
  {
   "cell_type": "code",
   "execution_count": 17,
   "metadata": {},
   "outputs": [],
   "source": [
    "times = tod_list1.local_times()"
   ]
  },
  {
   "cell_type": "code",
   "execution_count": 18,
   "metadata": {},
   "outputs": [
    {
     "data": {
      "text/plain": [
       "13183592.659184651"
      ]
     },
     "execution_count": 18,
     "metadata": {},
     "output_type": "execute_result"
    }
   ],
   "source": [
    "1/np.median(np.diff(times))"
   ]
  },
  {
   "cell_type": "code",
   "execution_count": 27,
   "metadata": {},
   "outputs": [],
   "source": [
    "rate = 1 / np.median(\n",
    "    np.diff(times)\n",
    "    )"
   ]
  },
  {
   "cell_type": "code",
   "execution_count": 21,
   "metadata": {},
   "outputs": [
    {
     "data": {
      "text/plain": [
       "13183592.659184651"
      ]
     },
     "execution_count": 21,
     "metadata": {},
     "output_type": "execute_result"
    }
   ],
   "source": [
    "rate"
   ]
  },
  {
   "cell_type": "code",
   "execution_count": null,
   "metadata": {},
   "outputs": [],
   "source": []
  },
  {
   "cell_type": "code",
   "execution_count": null,
   "metadata": {},
   "outputs": [],
   "source": []
  },
  {
   "cell_type": "code",
   "execution_count": null,
   "metadata": {},
   "outputs": [],
   "source": []
  },
  {
   "cell_type": "code",
   "execution_count": null,
   "metadata": {},
   "outputs": [],
   "source": []
  },
  {
   "cell_type": "code",
   "execution_count": null,
   "metadata": {},
   "outputs": [],
   "source": [
    "# import toast.cache\n",
    "# cache=toast.cache.Cache(); cache['aaa'] = np.arange(11)\n",
    "# cache['aaa']"
   ]
  },
  {
   "cell_type": "code",
   "execution_count": null,
   "metadata": {},
   "outputs": [],
   "source": []
  },
  {
   "cell_type": "code",
   "execution_count": null,
   "metadata": {},
   "outputs": [],
   "source": []
  },
  {
   "cell_type": "code",
   "execution_count": null,
   "metadata": {},
   "outputs": [],
   "source": []
  },
  {
   "cell_type": "code",
   "execution_count": null,
   "metadata": {},
   "outputs": [],
   "source": []
  },
  {
   "cell_type": "code",
   "execution_count": null,
   "metadata": {},
   "outputs": [],
   "source": []
  },
  {
   "cell_type": "code",
   "execution_count": null,
   "metadata": {},
   "outputs": [],
   "source": [
    "for key in tod.cache.keys():\n",
    "    print(key)"
   ]
  },
  {
   "cell_type": "code",
   "execution_count": null,
   "metadata": {},
   "outputs": [],
   "source": [
    "tod[0].read_times()"
   ]
  },
  {
   "cell_type": "code",
   "execution_count": null,
   "metadata": {},
   "outputs": [],
   "source": [
    "tod[0].read('13.10_112.90B-I')"
   ]
  },
  {
   "cell_type": "code",
   "execution_count": null,
   "metadata": {},
   "outputs": [],
   "source": [
    "tod.read('13.10_112.90B-I')"
   ]
  },
  {
   "cell_type": "code",
   "execution_count": null,
   "metadata": {},
   "outputs": [],
   "source": [
    "tod.cache.keys()"
   ]
  },
  {
   "cell_type": "code",
   "execution_count": null,
   "metadata": {},
   "outputs": [],
   "source": [
    "sa_pf.OperatorScanCorrector('raw_scan_flag', 'raw_el_pos', 'raw_antenna_time_mjd').filter_obs(obs)"
   ]
  },
  {
   "cell_type": "code",
   "execution_count": null,
   "metadata": {},
   "outputs": [],
   "source": [
    "sa_pf.OperatorScanCorrector('raw_scan_flag', 'raw_az_pos', 'raw_antenna_time_mjd').filter_obs(obs)"
   ]
  },
  {
   "cell_type": "code",
   "execution_count": null,
   "metadata": {},
   "outputs": [],
   "source": [
    "tod.cache.keys()"
   ]
  },
  {
   "cell_type": "code",
   "execution_count": null,
   "metadata": {},
   "outputs": [],
   "source": [
    "sa_pf.OperatorTelescopeDataInterpolator(prefix='corrected_').filter_obs(obs)"
   ]
  },
  {
   "cell_type": "code",
   "execution_count": null,
   "metadata": {},
   "outputs": [],
   "source": [
    "sa_p.ComputeBoresightEquatorialCoordinates().filter_obs(obs)"
   ]
  },
  {
   "cell_type": "code",
   "execution_count": null,
   "metadata": {},
   "outputs": [],
   "source": [
    "sa_p.ComputeBoresightQuaternions().filter_obs(obs)"
   ]
  },
  {
   "cell_type": "code",
   "execution_count": null,
   "metadata": {},
   "outputs": [],
   "source": [
    "tod.cache.keys()"
   ]
  },
  {
   "cell_type": "code",
   "execution_count": null,
   "metadata": {},
   "outputs": [],
   "source": [
    "tod[0].read('boresight')"
   ]
  },
  {
   "cell_type": "code",
   "execution_count": null,
   "metadata": {},
   "outputs": [],
   "source": [
    "#tod.set_toast_prefix('data')\n",
    "tod.read_boresight()"
   ]
  },
  {
   "cell_type": "code",
   "execution_count": null,
   "metadata": {},
   "outputs": [],
   "source": [
    "# data_tod = sa_tod.TOD({'input_name':'data'})\n",
    "# mc1_tod = sa_tod.TOD({'input_name':'mc1'})\n",
    "\n",
    "# new_tod_list = sa_toast_tod.TodToastWrapper(\n",
    "#     tod_list = [data_tod, mc1_tod],\n",
    "#     mpicomm = None,\n",
    "#     detectors = toast_dets,\n",
    "#     samples = nsamp,\n",
    "#     detindx = {x[0]:x[1] for x in zip(toast_dets, range(len(toast_dets)))},\n",
    "#     detranks = 1\n",
    "# )\n",
    "\n",
    "# input_name_list = new_tod_list.get_input_name_list()\n",
    "# new_tod_list.cache = cache\n",
    "# new_cache = new_tod_list.cache \n",
    "\n",
    "# for key in cache.keys():\n",
    "#     if input_name_list[0] in key and toast_dets[0] not in key:\n",
    "#         new_cache[key] = cache[key]\n",
    "#         new_key = key.replace(input_name_list[0]+'_', input_name_list[1]+'_')\n",
    "#         new_cache[new_key] = cache[key]\n",
    "#     if input_name_list[1] in key:\n",
    "#         new_cache[key+'-I'] = cache[key]\n",
    "\n",
    "# for tod in new_tod_list:\n",
    "#     tod.cache = new_tod_list.cache\n",
    "\n",
    "# sa_obs.tod_list = new_tod_list"
   ]
  },
  {
   "cell_type": "code",
   "execution_count": null,
   "metadata": {},
   "outputs": [],
   "source": []
  },
  {
   "cell_type": "code",
   "execution_count": null,
   "metadata": {},
   "outputs": [],
   "source": []
  },
  {
   "cell_type": "code",
   "execution_count": null,
   "metadata": {},
   "outputs": [],
   "source": [
    "class TOD():\n",
    "    def read(self):\n",
    "        print('read called in TOD')\n",
    "        \n",
    "class TOAST(TOD):\n",
    "    def __init__(self, tod):\n",
    "        self.tod = tod\n",
    "    def read(self):\n",
    "        print('read called in TOAST')"
   ]
  },
  {
   "cell_type": "code",
   "execution_count": null,
   "metadata": {},
   "outputs": [],
   "source": [
    "tod = TOD()\n",
    "t = TOAST(tod)"
   ]
  },
  {
   "cell_type": "code",
   "execution_count": null,
   "metadata": {},
   "outputs": [],
   "source": [
    "t.tod.read()"
   ]
  },
  {
   "cell_type": "code",
   "execution_count": null,
   "metadata": {},
   "outputs": [],
   "source": [
    "#Standard TOAST imports\n",
    "import toast\n",
    "from toast.tod import (\n",
    "    OpSimNoise,\n",
    ")\n",
    "from toast.todmap import (\n",
    "    OpPointingHpix,\n",
    "    OpSimScan,\n",
    "    OpMapMaker\n",
    ")\n",
    "from toast.map import (\n",
    "    DistPixels\n",
    ")"
   ]
  },
  {
   "cell_type": "code",
   "execution_count": null,
   "metadata": {},
   "outputs": [],
   "source": [
    "DistPixels?"
   ]
  },
  {
   "cell_type": "code",
   "execution_count": null,
   "metadata": {},
   "outputs": [],
   "source": []
  }
 ],
 "metadata": {
  "kernelspec": {
   "display_name": "CMB 20200630",
   "language": "python",
   "name": "cmbenv-20200630"
  },
  "language_info": {
   "codemirror_mode": {
    "name": "ipython",
    "version": 3
   },
   "file_extension": ".py",
   "mimetype": "text/x-python",
   "name": "python",
   "nbconvert_exporter": "python",
   "pygments_lexer": "ipython3",
   "version": "3.7.3"
  }
 },
 "nbformat": 4,
 "nbformat_minor": 4
}
